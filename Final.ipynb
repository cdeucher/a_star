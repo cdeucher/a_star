{
 "cells": [
  {
   "cell_type": "code",
   "execution_count": 1,
   "metadata": {},
   "outputs": [
    {
     "name": "stdout",
     "output_type": "stream",
     "text": [
      "{'Bucharest': {'Urzineci': 85, 'Giurgiu': 90, 'Pitesti': 101, 'Fagaras': 211}, 'Giurgiu': {'Bucharest': 90}, 'Urzineci': {'Bucharest': 85, 'Hirsova': 98, 'Vaslui': 142}, 'Hirsova': {'Urzineci': 98, 'Eforie': 86}, 'Eforie': {'Hirsova': 86}, 'Vaslui': {'Urzineci': 142, 'Iasi': 92}, 'Iasi': {'Vaslui': 92, 'Neamt': 87}, 'Neamt': {'Iasi': 87}, 'Fagaras': {'Bucharest': 211, 'Sibiu': 99}, 'Pitesti': {'Bucharest': 101, 'Rimnicu Vilcea': 97, 'Craiova': 138}, 'Craiova': {'Pitesti': 138, 'Rimnicu Vilcea': 146, 'Dobreta': 120}, 'Rimnicu Vilcea': {'Craiova': 146, 'Pitesti': 97, 'Sibiu': 80}, 'Sibiu': {'Rimnicu Vilcea': 80, 'Fagaras': 99, 'Oradea': 151, 'Arad': 140}, 'Oradea': {'Sibiu': 151, 'Zerind': 71}, 'Zerind': {'Oradea': 71, 'Arad': 75}, 'Arad': {'Zerind': 75, 'Timisoara': 118, 'Sibiu': 140}, 'Timisoara': {'Arad': 118, 'Lugoj': 111}, 'Lugoj': {'Timisoara': 111, 'Mehadia': 70}, 'Mehadia': {'Lugoj': 70, 'Dobreta': 75}, 'Dobreta': {'Mehadia': 75, 'Craiova': 120}}\n",
      "\n"
     ]
    }
   ],
   "source": [
    "#https://gitlab.tadsufpr.net.br/iaa003-alexkutzke/a_star_assignment\n",
    "\n",
    "import math\n",
    "from dists import dists, straight_line_dists_from_bucharest \n",
    "\n",
    "grid = {}\n",
    "for item in dists:  \n",
    "    grid[item] = {}\n",
    "    for city in dists[item]:              \n",
    "        grid[item][city[0]] = city[1]\n",
    "\n",
    "print(grid)  \n",
    "print()"
   ]
  },
  {
   "cell_type": "code",
   "execution_count": 2,
   "metadata": {},
   "outputs": [],
   "source": [
    "# This class represents a node\n",
    "class Node:\n",
    "\n",
    "    # Initialize the class\n",
    "    def __init__(self, position:None, parent:None, parent_g:0, map: []):\n",
    "        \n",
    "        self.position     = position\n",
    "        self.compare      = position+str(parent)                     \n",
    "        self.length       = map[parent][position]+parent_g if parent != None else 0\n",
    "        self.parent       = str(parent)  \n",
    "        self.activate     = True\n",
    "                 \n",
    "        self.g = 0 # Distance to start node\n",
    "        self.h = straight_line_dists_from_bucharest[position]   # Distance to goal node\n",
    "        self.f = 0 # Total cost\n",
    "\n",
    "    # Compare nodes\n",
    "    def __eq__(self, other):\n",
    "        return self.compare == other.compare\n",
    "\n",
    "    # Sort nodes\n",
    "    def __lt__(self, other):\n",
    "         return self.f < other.f\n",
    "\n",
    "    # Print node\n",
    "    def __repr__(self):\n",
    "        return ('({0},{1},{2},{3})'.format(self.g,self.h,self.f,  (self.position, self.length, self.parent)))"
   ]
  },
  {
   "cell_type": "code",
   "execution_count": 3,
   "metadata": {},
   "outputs": [],
   "source": [
    "# Check if a neighbor should be added to open list\n",
    "def add_to_open(open, neighbor):\n",
    "    for node in open:\n",
    "        if (neighbor == node and neighbor.f >= node.f):\n",
    "            return False\n",
    "    return True"
   ]
  },
  {
   "cell_type": "code",
   "execution_count": 4,
   "metadata": {},
   "outputs": [],
   "source": [
    "def print_all(open):\n",
    "    open.sort()\n",
    "    count = 0\n",
    "    for item in open:\n",
    "        count = count +1\n",
    "        print(count, item)\n",
    "    return True    "
   ]
  },
  {
   "cell_type": "code",
   "execution_count": 5,
   "metadata": {},
   "outputs": [],
   "source": [
    "def a_star(map, start, end):\n",
    "    \n",
    "    # Create lists for open nodes and closed nodes\n",
    "    open   = []\n",
    "    closed = []\n",
    "    path   = []\n",
    "\n",
    "    # Create a start node and an goal node\n",
    "    start_node = Node(start, None, 0, map)\n",
    "    goal_node  = Node(end, None, 0, map)\n",
    "\n",
    "    # Add the start node\n",
    "    open.append(start_node)\n",
    "    path.append(start_node)\n",
    "    \n",
    "    #print(\"1- open\",open)\n",
    "    \n",
    "    cicles =1\n",
    "    # Loop until the open list is empty\n",
    "    while len(open) > 0:\n",
    "        cicles = cicles+1\n",
    "        # Sort the open list to get the node with the lowest cost first\n",
    "        open.sort()\n",
    "\n",
    "        # Get the node with the lowest cost\n",
    "        current_node = open.pop(0)\n",
    "        #print(\"2- current_node\",current_node)\n",
    "        \n",
    "        # Add the current node to the closed list\n",
    "        closed.append(current_node)\n",
    "        \n",
    "        #print(\"3 - current_node\",current_node, \"goal_node\", goal_node)\n",
    "        # Check if we have reached the goal, return the path\n",
    "        if current_node.position == goal_node.position:\n",
    "            open = []\n",
    "            path.append(current_node)\n",
    "            continue\n",
    "        elif current_node != start_node:\n",
    "            path.append(current_node)\n",
    "            \n",
    "        #current position\n",
    "        position = current_node.position\n",
    "        #print(\"4 - position\",position)\n",
    "        \n",
    "        # Get neighbors\n",
    "        neighbors = []\n",
    "        #print(\"map\",map[position])\n",
    "        for sub_city in map[position]:\n",
    "            neighbors.append(sub_city)\n",
    "        \n",
    "        #print(\"5 - neighbors\",neighbors)\n",
    "\n",
    "        # Loop neighbors\n",
    "        for next in neighbors:\n",
    "            # Create a neighbor node\n",
    "            neighbor = Node(next, current_node.position, current_node.g, map)\n",
    "\n",
    "            # Check city \n",
    "            if(not neighbor.activate):\n",
    "                continue\n",
    "            \n",
    "            #print(\"6 - neighbor\",neighbor)\n",
    "            \n",
    "            # Check if the neighbor is in the closed list\n",
    "            if(neighbor in closed):\n",
    "                continue\n",
    "\n",
    "            #print(\"7 - closed\",closed)\n",
    "            #print(\"8 - neighbor - start_node\",neighbor , start_node)\n",
    "            # Generate heuristics (Manhattan distance)\n",
    "            neighbor.g = abs(neighbor.length + start_node.length)\n",
    "            neighbor.f = neighbor.g + neighbor.h\n",
    "                       \n",
    "            # Check if neighbor is in open list and if it has a lower f value\n",
    "            if(add_to_open(open, neighbor) == True):\n",
    "                # Everything is green, add neighbor to open list\n",
    "                open.append(neighbor)\n",
    "\n",
    "            #print(\"9 - open\",open)\n",
    "        #print()\n",
    "        #print_all(open)  \n",
    "        #print()\n",
    "        #print(\"cicles\",cicles)\n",
    "        #print()     \n",
    "    # Return None, no path is found\n",
    "    return path[::-1]"
   ]
  },
  {
   "cell_type": "code",
   "execution_count": 6,
   "metadata": {
    "scrolled": false
   },
   "outputs": [
    {
     "name": "stdout",
     "output_type": "stream",
     "text": [
      "1 (0,244,0,('Lugoj', 0, 'None'))\n",
      "2 (70,241,311,('Mehadia', 70, 'Lugoj'))\n",
      "3 (140,244,384,('Lugoj', 140, 'Mehadia'))\n",
      "4 (145,242,387,('Dobreta', 145, 'Mehadia'))\n",
      "5 (265,160,425,('Craiova', 265, 'Dobreta'))\n",
      "6 (111,329,440,('Timisoara', 111, 'Lugoj'))\n",
      "7 (220,241,461,('Mehadia', 220, 'Dobreta'))\n",
      "8 (222,244,466,('Lugoj', 222, 'Timisoara'))\n",
      "9 (403,100,503,('Pitesti', 403, 'Craiova'))\n",
      "10 (504,0,504,('Bucharest', 504, 'Pitesti'))\n"
     ]
    }
   ],
   "source": [
    "# The main entry point for this module\n",
    "def main():\n",
    "\n",
    "    # Get a map (grid)\n",
    "    start = \"Lugoj\"\n",
    "    end   = \"Bucharest\"\n",
    "    width = 0\n",
    "    height = 0\n",
    "   \n",
    "    # Find the closest path from start(@) to end($)\n",
    "    path = a_star(grid, start, end)\n",
    "\n",
    "    print_all(path)\n",
    "\n",
    "# Tell python to run main method\n",
    "if __name__ == \"__main__\": \n",
    "    main()"
   ]
  },
  {
   "cell_type": "code",
   "execution_count": null,
   "metadata": {},
   "outputs": [],
   "source": []
  }
 ],
 "metadata": {
  "kernelspec": {
   "display_name": "Python 3",
   "language": "python",
   "name": "python3"
  },
  "language_info": {
   "codemirror_mode": {
    "name": "ipython",
    "version": 3
   },
   "file_extension": ".py",
   "mimetype": "text/x-python",
   "name": "python",
   "nbconvert_exporter": "python",
   "pygments_lexer": "ipython3",
   "version": "3.7.6"
  }
 },
 "nbformat": 4,
 "nbformat_minor": 4
}
